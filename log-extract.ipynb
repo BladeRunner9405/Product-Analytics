{
 "cells": [
  {
   "cell_type": "code",
   "execution_count": 1,
   "metadata": {
    "collapsed": true
   },
   "outputs": [
    {
     "data": {
      "text/plain": "          Unnamed: 0      userid  sessionid            timestamp  \\\n0                  0  user_10000          1  2021-12-28T02:33:15   \n1                  1  user_10000          1  2021-12-28T02:33:29   \n2                  2  user_10000          1  2021-12-28T02:33:47   \n3                  3  user_10000          1  2021-12-28T02:33:59   \n4                  4  user_10000          1  2021-12-28T02:34:10   \n...              ...         ...        ...                  ...   \n14553412    14553412  user_14999        529  2025-01-02T04:00:01   \n14553413    14553413  user_14999        529  2025-01-02T04:00:45   \n14553414    14553414  user_14999        529  2025-01-02T04:01:08   \n14553415    14553415  user_14999        530  2025-01-03T04:01:15   \n14553416    14553416  user_14999        530  2025-01-03T04:01:23   \n\n                action         value                  category  age gender  \\\n0             mainpage      0.000000                      None   48      М   \n1               search      0.000000  Продовольственные товары   48      М   \n2              product      0.000000  Продовольственные товары   48      М   \n3             mainpage      0.000000                      None   48      М   \n4             category      0.000000          Товары для детей   48      М   \n...                ...           ...                       ...  ...    ...   \n14553412          cart  23613.725533  Продовольственные товары   34      Ж   \n14553413      checkout    992.000000                      None   34      Ж   \n14553414  confirmation    992.000000                      None   34      Ж   \n14553415        search      0.000000  Продовольственные товары   34      Ж   \n14553416       product      0.000000  Продовольственные товары   34      Ж   \n\n               city  \n0              Омск  \n1              Омск  \n2              Омск  \n3              Омск  \n4              Омск  \n...             ...  \n14553412  Челябинск  \n14553413  Челябинск  \n14553414  Челябинск  \n14553415  Челябинск  \n14553416  Челябинск  \n\n[14553417 rows x 10 columns]",
      "text/html": "<div>\n<style scoped>\n    .dataframe tbody tr th:only-of-type {\n        vertical-align: middle;\n    }\n\n    .dataframe tbody tr th {\n        vertical-align: top;\n    }\n\n    .dataframe thead th {\n        text-align: right;\n    }\n</style>\n<table border=\"1\" class=\"dataframe\">\n  <thead>\n    <tr style=\"text-align: right;\">\n      <th></th>\n      <th>Unnamed: 0</th>\n      <th>userid</th>\n      <th>sessionid</th>\n      <th>timestamp</th>\n      <th>action</th>\n      <th>value</th>\n      <th>category</th>\n      <th>age</th>\n      <th>gender</th>\n      <th>city</th>\n    </tr>\n  </thead>\n  <tbody>\n    <tr>\n      <th>0</th>\n      <td>0</td>\n      <td>user_10000</td>\n      <td>1</td>\n      <td>2021-12-28T02:33:15</td>\n      <td>mainpage</td>\n      <td>0.000000</td>\n      <td>None</td>\n      <td>48</td>\n      <td>М</td>\n      <td>Омск</td>\n    </tr>\n    <tr>\n      <th>1</th>\n      <td>1</td>\n      <td>user_10000</td>\n      <td>1</td>\n      <td>2021-12-28T02:33:29</td>\n      <td>search</td>\n      <td>0.000000</td>\n      <td>Продовольственные товары</td>\n      <td>48</td>\n      <td>М</td>\n      <td>Омск</td>\n    </tr>\n    <tr>\n      <th>2</th>\n      <td>2</td>\n      <td>user_10000</td>\n      <td>1</td>\n      <td>2021-12-28T02:33:47</td>\n      <td>product</td>\n      <td>0.000000</td>\n      <td>Продовольственные товары</td>\n      <td>48</td>\n      <td>М</td>\n      <td>Омск</td>\n    </tr>\n    <tr>\n      <th>3</th>\n      <td>3</td>\n      <td>user_10000</td>\n      <td>1</td>\n      <td>2021-12-28T02:33:59</td>\n      <td>mainpage</td>\n      <td>0.000000</td>\n      <td>None</td>\n      <td>48</td>\n      <td>М</td>\n      <td>Омск</td>\n    </tr>\n    <tr>\n      <th>4</th>\n      <td>4</td>\n      <td>user_10000</td>\n      <td>1</td>\n      <td>2021-12-28T02:34:10</td>\n      <td>category</td>\n      <td>0.000000</td>\n      <td>Товары для детей</td>\n      <td>48</td>\n      <td>М</td>\n      <td>Омск</td>\n    </tr>\n    <tr>\n      <th>...</th>\n      <td>...</td>\n      <td>...</td>\n      <td>...</td>\n      <td>...</td>\n      <td>...</td>\n      <td>...</td>\n      <td>...</td>\n      <td>...</td>\n      <td>...</td>\n      <td>...</td>\n    </tr>\n    <tr>\n      <th>14553412</th>\n      <td>14553412</td>\n      <td>user_14999</td>\n      <td>529</td>\n      <td>2025-01-02T04:00:01</td>\n      <td>cart</td>\n      <td>23613.725533</td>\n      <td>Продовольственные товары</td>\n      <td>34</td>\n      <td>Ж</td>\n      <td>Челябинск</td>\n    </tr>\n    <tr>\n      <th>14553413</th>\n      <td>14553413</td>\n      <td>user_14999</td>\n      <td>529</td>\n      <td>2025-01-02T04:00:45</td>\n      <td>checkout</td>\n      <td>992.000000</td>\n      <td>None</td>\n      <td>34</td>\n      <td>Ж</td>\n      <td>Челябинск</td>\n    </tr>\n    <tr>\n      <th>14553414</th>\n      <td>14553414</td>\n      <td>user_14999</td>\n      <td>529</td>\n      <td>2025-01-02T04:01:08</td>\n      <td>confirmation</td>\n      <td>992.000000</td>\n      <td>None</td>\n      <td>34</td>\n      <td>Ж</td>\n      <td>Челябинск</td>\n    </tr>\n    <tr>\n      <th>14553415</th>\n      <td>14553415</td>\n      <td>user_14999</td>\n      <td>530</td>\n      <td>2025-01-03T04:01:15</td>\n      <td>search</td>\n      <td>0.000000</td>\n      <td>Продовольственные товары</td>\n      <td>34</td>\n      <td>Ж</td>\n      <td>Челябинск</td>\n    </tr>\n    <tr>\n      <th>14553416</th>\n      <td>14553416</td>\n      <td>user_14999</td>\n      <td>530</td>\n      <td>2025-01-03T04:01:23</td>\n      <td>product</td>\n      <td>0.000000</td>\n      <td>Продовольственные товары</td>\n      <td>34</td>\n      <td>Ж</td>\n      <td>Челябинск</td>\n    </tr>\n  </tbody>\n</table>\n<p>14553417 rows × 10 columns</p>\n</div>"
     },
     "execution_count": 1,
     "metadata": {},
     "output_type": "execute_result"
    }
   ],
   "source": [
    "import pandas as pd\n",
    "from datetime import datetime\n",
    "import requests\n",
    "\n",
    "df = pd.read_csv('group1_new.csv')\n",
    "df"
   ]
  },
  {
   "cell_type": "code",
   "execution_count": 2,
   "outputs": [
    {
     "data": {
      "text/plain": "          userid  sessionid            timestamp        action         value  \\\n0              0          1  2021-12-28T02:33:15      mainpage      0.000000   \n1              0          1  2021-12-28T02:33:29        search      0.000000   \n2              0          1  2021-12-28T02:33:47       product      0.000000   \n3              0          1  2021-12-28T02:33:59      mainpage      0.000000   \n4              0          1  2021-12-28T02:34:10      category      0.000000   \n...          ...        ...                  ...           ...           ...   \n14553412    4999        529  2025-01-02T04:00:01          cart  23613.725533   \n14553413    4999        529  2025-01-02T04:00:45      checkout    992.000000   \n14553414    4999        529  2025-01-02T04:01:08  confirmation    992.000000   \n14553415    4999        530  2025-01-03T04:01:15        search      0.000000   \n14553416    4999        530  2025-01-03T04:01:23       product      0.000000   \n\n                          category  age gender       city  \n0                             None   48      М       Омск  \n1         Продовольственные товары   48      М       Омск  \n2         Продовольственные товары   48      М       Омск  \n3                             None   48      М       Омск  \n4                 Товары для детей   48      М       Омск  \n...                            ...  ...    ...        ...  \n14553412  Продовольственные товары   34      Ж  Челябинск  \n14553413                      None   34      Ж  Челябинск  \n14553414                      None   34      Ж  Челябинск  \n14553415  Продовольственные товары   34      Ж  Челябинск  \n14553416  Продовольственные товары   34      Ж  Челябинск  \n\n[14553417 rows x 9 columns]",
      "text/html": "<div>\n<style scoped>\n    .dataframe tbody tr th:only-of-type {\n        vertical-align: middle;\n    }\n\n    .dataframe tbody tr th {\n        vertical-align: top;\n    }\n\n    .dataframe thead th {\n        text-align: right;\n    }\n</style>\n<table border=\"1\" class=\"dataframe\">\n  <thead>\n    <tr style=\"text-align: right;\">\n      <th></th>\n      <th>userid</th>\n      <th>sessionid</th>\n      <th>timestamp</th>\n      <th>action</th>\n      <th>value</th>\n      <th>category</th>\n      <th>age</th>\n      <th>gender</th>\n      <th>city</th>\n    </tr>\n  </thead>\n  <tbody>\n    <tr>\n      <th>0</th>\n      <td>0</td>\n      <td>1</td>\n      <td>2021-12-28T02:33:15</td>\n      <td>mainpage</td>\n      <td>0.000000</td>\n      <td>None</td>\n      <td>48</td>\n      <td>М</td>\n      <td>Омск</td>\n    </tr>\n    <tr>\n      <th>1</th>\n      <td>0</td>\n      <td>1</td>\n      <td>2021-12-28T02:33:29</td>\n      <td>search</td>\n      <td>0.000000</td>\n      <td>Продовольственные товары</td>\n      <td>48</td>\n      <td>М</td>\n      <td>Омск</td>\n    </tr>\n    <tr>\n      <th>2</th>\n      <td>0</td>\n      <td>1</td>\n      <td>2021-12-28T02:33:47</td>\n      <td>product</td>\n      <td>0.000000</td>\n      <td>Продовольственные товары</td>\n      <td>48</td>\n      <td>М</td>\n      <td>Омск</td>\n    </tr>\n    <tr>\n      <th>3</th>\n      <td>0</td>\n      <td>1</td>\n      <td>2021-12-28T02:33:59</td>\n      <td>mainpage</td>\n      <td>0.000000</td>\n      <td>None</td>\n      <td>48</td>\n      <td>М</td>\n      <td>Омск</td>\n    </tr>\n    <tr>\n      <th>4</th>\n      <td>0</td>\n      <td>1</td>\n      <td>2021-12-28T02:34:10</td>\n      <td>category</td>\n      <td>0.000000</td>\n      <td>Товары для детей</td>\n      <td>48</td>\n      <td>М</td>\n      <td>Омск</td>\n    </tr>\n    <tr>\n      <th>...</th>\n      <td>...</td>\n      <td>...</td>\n      <td>...</td>\n      <td>...</td>\n      <td>...</td>\n      <td>...</td>\n      <td>...</td>\n      <td>...</td>\n      <td>...</td>\n    </tr>\n    <tr>\n      <th>14553412</th>\n      <td>4999</td>\n      <td>529</td>\n      <td>2025-01-02T04:00:01</td>\n      <td>cart</td>\n      <td>23613.725533</td>\n      <td>Продовольственные товары</td>\n      <td>34</td>\n      <td>Ж</td>\n      <td>Челябинск</td>\n    </tr>\n    <tr>\n      <th>14553413</th>\n      <td>4999</td>\n      <td>529</td>\n      <td>2025-01-02T04:00:45</td>\n      <td>checkout</td>\n      <td>992.000000</td>\n      <td>None</td>\n      <td>34</td>\n      <td>Ж</td>\n      <td>Челябинск</td>\n    </tr>\n    <tr>\n      <th>14553414</th>\n      <td>4999</td>\n      <td>529</td>\n      <td>2025-01-02T04:01:08</td>\n      <td>confirmation</td>\n      <td>992.000000</td>\n      <td>None</td>\n      <td>34</td>\n      <td>Ж</td>\n      <td>Челябинск</td>\n    </tr>\n    <tr>\n      <th>14553415</th>\n      <td>4999</td>\n      <td>530</td>\n      <td>2025-01-03T04:01:15</td>\n      <td>search</td>\n      <td>0.000000</td>\n      <td>Продовольственные товары</td>\n      <td>34</td>\n      <td>Ж</td>\n      <td>Челябинск</td>\n    </tr>\n    <tr>\n      <th>14553416</th>\n      <td>4999</td>\n      <td>530</td>\n      <td>2025-01-03T04:01:23</td>\n      <td>product</td>\n      <td>0.000000</td>\n      <td>Продовольственные товары</td>\n      <td>34</td>\n      <td>Ж</td>\n      <td>Челябинск</td>\n    </tr>\n  </tbody>\n</table>\n<p>14553417 rows × 9 columns</p>\n</div>"
     },
     "execution_count": 2,
     "metadata": {},
     "output_type": "execute_result"
    }
   ],
   "source": [
    "df.drop(columns='Unnamed: 0', inplace=True)\n",
    "\n",
    "df['userid'] = df['userid'].apply(lambda x: int(x[6:]))\n",
    "df"
   ],
   "metadata": {
    "collapsed": false
   }
  },
  {
   "cell_type": "code",
   "execution_count": 3,
   "metadata": {
    "collapsed": false
   },
   "outputs": [
    {
     "data": {
      "text/plain": "               city                  point\n0              Омск  [54.989347,73.368221]\n1            Москва  [55.755864,37.617698]\n2    Ростов-на-Дону  [47.222078,39.720358]\n3       Новосибирск   [55.030204,82.92043]\n4        Красноярск  [56.010569,92.852572]\n5      Екатеринбург  [56.838011,60.597474]\n6         Челябинск  [55.159902,61.402554]\n7           Воронеж  [51.660781,39.200296]\n8            Казань  [55.796127,49.106414]\n9   Санкт-Петербург  [59.938955,30.315644]\n10           Самара  [53.195878,50.100202]\n11        Волгоград  [48.707067,44.516975]\n12  Нижний Новгород  [56.326797,44.006516]\n13              Уфа  [54.735152,55.958736]",
      "text/html": "<div>\n<style scoped>\n    .dataframe tbody tr th:only-of-type {\n        vertical-align: middle;\n    }\n\n    .dataframe tbody tr th {\n        vertical-align: top;\n    }\n\n    .dataframe thead th {\n        text-align: right;\n    }\n</style>\n<table border=\"1\" class=\"dataframe\">\n  <thead>\n    <tr style=\"text-align: right;\">\n      <th></th>\n      <th>city</th>\n      <th>point</th>\n    </tr>\n  </thead>\n  <tbody>\n    <tr>\n      <th>0</th>\n      <td>Омск</td>\n      <td>[54.989347,73.368221]</td>\n    </tr>\n    <tr>\n      <th>1</th>\n      <td>Москва</td>\n      <td>[55.755864,37.617698]</td>\n    </tr>\n    <tr>\n      <th>2</th>\n      <td>Ростов-на-Дону</td>\n      <td>[47.222078,39.720358]</td>\n    </tr>\n    <tr>\n      <th>3</th>\n      <td>Новосибирск</td>\n      <td>[55.030204,82.92043]</td>\n    </tr>\n    <tr>\n      <th>4</th>\n      <td>Красноярск</td>\n      <td>[56.010569,92.852572]</td>\n    </tr>\n    <tr>\n      <th>5</th>\n      <td>Екатеринбург</td>\n      <td>[56.838011,60.597474]</td>\n    </tr>\n    <tr>\n      <th>6</th>\n      <td>Челябинск</td>\n      <td>[55.159902,61.402554]</td>\n    </tr>\n    <tr>\n      <th>7</th>\n      <td>Воронеж</td>\n      <td>[51.660781,39.200296]</td>\n    </tr>\n    <tr>\n      <th>8</th>\n      <td>Казань</td>\n      <td>[55.796127,49.106414]</td>\n    </tr>\n    <tr>\n      <th>9</th>\n      <td>Санкт-Петербург</td>\n      <td>[59.938955,30.315644]</td>\n    </tr>\n    <tr>\n      <th>10</th>\n      <td>Самара</td>\n      <td>[53.195878,50.100202]</td>\n    </tr>\n    <tr>\n      <th>11</th>\n      <td>Волгоград</td>\n      <td>[48.707067,44.516975]</td>\n    </tr>\n    <tr>\n      <th>12</th>\n      <td>Нижний Новгород</td>\n      <td>[56.326797,44.006516]</td>\n    </tr>\n    <tr>\n      <th>13</th>\n      <td>Уфа</td>\n      <td>[54.735152,55.958736]</td>\n    </tr>\n  </tbody>\n</table>\n</div>"
     },
     "execution_count": 3,
     "metadata": {},
     "output_type": "execute_result"
    }
   ],
   "source": [
    "def get_point(city):\n",
    "    apikey = 'db86ee1a-4a33-44aa-aa32-6f397a8ccb7a'\n",
    "    url = 'https://geocode-maps.yandex.ru/1.x/?apikey=' + apikey + '&geocode=' + city\n",
    "    html = requests.get(url).text\n",
    "    l = html.find('<pos>')\n",
    "    r = html.find('</pos>')\n",
    "    x, y = html[l + 5:r].split(' ')\n",
    "    return '[' + y + ',' + x + ']'\n",
    "\n",
    "\n",
    "points = pd.DataFrame(df['city'].unique(), columns=['city'])\n",
    "points['point'] = points['city'].apply(get_point)\n",
    "points"
   ]
  },
  {
   "cell_type": "code",
   "execution_count": 4,
   "metadata": {
    "collapsed": false
   },
   "outputs": [
    {
     "data": {
      "text/plain": "          userid  sessionid            timestamp        action         value  \\\n0              0          1  2021-12-28T02:33:15      mainpage      0.000000   \n1              0          1  2021-12-28T02:33:29        search      0.000000   \n2              0          1  2021-12-28T02:33:47       product      0.000000   \n3              0          1  2021-12-28T02:33:59      mainpage      0.000000   \n4              0          1  2021-12-28T02:34:10      category      0.000000   \n...          ...        ...                  ...           ...           ...   \n14553412    4999        529  2025-01-02T04:00:01          cart  23613.725533   \n14553413    4999        529  2025-01-02T04:00:45      checkout    992.000000   \n14553414    4999        529  2025-01-02T04:01:08  confirmation    992.000000   \n14553415    4999        530  2025-01-03T04:01:15        search      0.000000   \n14553416    4999        530  2025-01-03T04:01:23       product      0.000000   \n\n                          category  age gender       city  \\\n0                             None   48      М       Омск   \n1         Продовольственные товары   48      М       Омск   \n2         Продовольственные товары   48      М       Омск   \n3                             None   48      М       Омск   \n4                 Товары для детей   48      М       Омск   \n...                            ...  ...    ...        ...   \n14553412  Продовольственные товары   34      Ж  Челябинск   \n14553413                      None   34      Ж  Челябинск   \n14553414                      None   34      Ж  Челябинск   \n14553415  Продовольственные товары   34      Ж  Челябинск   \n14553416  Продовольственные товары   34      Ж  Челябинск   \n\n                          point  \n0         [54.989347,73.368221]  \n1         [54.989347,73.368221]  \n2         [54.989347,73.368221]  \n3         [54.989347,73.368221]  \n4         [54.989347,73.368221]  \n...                         ...  \n14553412  [55.159902,61.402554]  \n14553413  [55.159902,61.402554]  \n14553414  [55.159902,61.402554]  \n14553415  [55.159902,61.402554]  \n14553416  [55.159902,61.402554]  \n\n[14553417 rows x 10 columns]",
      "text/html": "<div>\n<style scoped>\n    .dataframe tbody tr th:only-of-type {\n        vertical-align: middle;\n    }\n\n    .dataframe tbody tr th {\n        vertical-align: top;\n    }\n\n    .dataframe thead th {\n        text-align: right;\n    }\n</style>\n<table border=\"1\" class=\"dataframe\">\n  <thead>\n    <tr style=\"text-align: right;\">\n      <th></th>\n      <th>userid</th>\n      <th>sessionid</th>\n      <th>timestamp</th>\n      <th>action</th>\n      <th>value</th>\n      <th>category</th>\n      <th>age</th>\n      <th>gender</th>\n      <th>city</th>\n      <th>point</th>\n    </tr>\n  </thead>\n  <tbody>\n    <tr>\n      <th>0</th>\n      <td>0</td>\n      <td>1</td>\n      <td>2021-12-28T02:33:15</td>\n      <td>mainpage</td>\n      <td>0.000000</td>\n      <td>None</td>\n      <td>48</td>\n      <td>М</td>\n      <td>Омск</td>\n      <td>[54.989347,73.368221]</td>\n    </tr>\n    <tr>\n      <th>1</th>\n      <td>0</td>\n      <td>1</td>\n      <td>2021-12-28T02:33:29</td>\n      <td>search</td>\n      <td>0.000000</td>\n      <td>Продовольственные товары</td>\n      <td>48</td>\n      <td>М</td>\n      <td>Омск</td>\n      <td>[54.989347,73.368221]</td>\n    </tr>\n    <tr>\n      <th>2</th>\n      <td>0</td>\n      <td>1</td>\n      <td>2021-12-28T02:33:47</td>\n      <td>product</td>\n      <td>0.000000</td>\n      <td>Продовольственные товары</td>\n      <td>48</td>\n      <td>М</td>\n      <td>Омск</td>\n      <td>[54.989347,73.368221]</td>\n    </tr>\n    <tr>\n      <th>3</th>\n      <td>0</td>\n      <td>1</td>\n      <td>2021-12-28T02:33:59</td>\n      <td>mainpage</td>\n      <td>0.000000</td>\n      <td>None</td>\n      <td>48</td>\n      <td>М</td>\n      <td>Омск</td>\n      <td>[54.989347,73.368221]</td>\n    </tr>\n    <tr>\n      <th>4</th>\n      <td>0</td>\n      <td>1</td>\n      <td>2021-12-28T02:34:10</td>\n      <td>category</td>\n      <td>0.000000</td>\n      <td>Товары для детей</td>\n      <td>48</td>\n      <td>М</td>\n      <td>Омск</td>\n      <td>[54.989347,73.368221]</td>\n    </tr>\n    <tr>\n      <th>...</th>\n      <td>...</td>\n      <td>...</td>\n      <td>...</td>\n      <td>...</td>\n      <td>...</td>\n      <td>...</td>\n      <td>...</td>\n      <td>...</td>\n      <td>...</td>\n      <td>...</td>\n    </tr>\n    <tr>\n      <th>14553412</th>\n      <td>4999</td>\n      <td>529</td>\n      <td>2025-01-02T04:00:01</td>\n      <td>cart</td>\n      <td>23613.725533</td>\n      <td>Продовольственные товары</td>\n      <td>34</td>\n      <td>Ж</td>\n      <td>Челябинск</td>\n      <td>[55.159902,61.402554]</td>\n    </tr>\n    <tr>\n      <th>14553413</th>\n      <td>4999</td>\n      <td>529</td>\n      <td>2025-01-02T04:00:45</td>\n      <td>checkout</td>\n      <td>992.000000</td>\n      <td>None</td>\n      <td>34</td>\n      <td>Ж</td>\n      <td>Челябинск</td>\n      <td>[55.159902,61.402554]</td>\n    </tr>\n    <tr>\n      <th>14553414</th>\n      <td>4999</td>\n      <td>529</td>\n      <td>2025-01-02T04:01:08</td>\n      <td>confirmation</td>\n      <td>992.000000</td>\n      <td>None</td>\n      <td>34</td>\n      <td>Ж</td>\n      <td>Челябинск</td>\n      <td>[55.159902,61.402554]</td>\n    </tr>\n    <tr>\n      <th>14553415</th>\n      <td>4999</td>\n      <td>530</td>\n      <td>2025-01-03T04:01:15</td>\n      <td>search</td>\n      <td>0.000000</td>\n      <td>Продовольственные товары</td>\n      <td>34</td>\n      <td>Ж</td>\n      <td>Челябинск</td>\n      <td>[55.159902,61.402554]</td>\n    </tr>\n    <tr>\n      <th>14553416</th>\n      <td>4999</td>\n      <td>530</td>\n      <td>2025-01-03T04:01:23</td>\n      <td>product</td>\n      <td>0.000000</td>\n      <td>Продовольственные товары</td>\n      <td>34</td>\n      <td>Ж</td>\n      <td>Челябинск</td>\n      <td>[55.159902,61.402554]</td>\n    </tr>\n  </tbody>\n</table>\n<p>14553417 rows × 10 columns</p>\n</div>"
     },
     "execution_count": 4,
     "metadata": {},
     "output_type": "execute_result"
    }
   ],
   "source": [
    "df = df.merge(points, how='left', on='city')\n",
    "df"
   ]
  },
  {
   "cell_type": "code",
   "execution_count": null,
   "outputs": [],
   "source": [
    "df.to_csv('log-info.csv', index=False)"
   ],
   "metadata": {
    "collapsed": false
   }
  }
 ],
 "metadata": {
  "kernelspec": {
   "display_name": "NTO2023",
   "language": "python",
   "name": "python3"
  },
  "language_info": {
   "codemirror_mode": {
    "name": "ipython",
    "version": 3
   },
   "file_extension": ".py",
   "mimetype": "text/x-python",
   "name": "python",
   "nbconvert_exporter": "python",
   "pygments_lexer": "ipython3",
   "version": "3.10.4 | packaged by conda-forge | (main, Mar 30 2022, 08:38:02) [MSC v.1916 64 bit (AMD64)]"
  },
  "vscode": {
   "interpreter": {
    "hash": "a31b0edbc1550f98d0b7cfb2351d0b99657d45e8f23a991983b6287ffecc4531"
   }
  }
 },
 "nbformat": 4,
 "nbformat_minor": 0
}
