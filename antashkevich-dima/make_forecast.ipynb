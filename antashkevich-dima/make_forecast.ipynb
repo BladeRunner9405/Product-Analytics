{
 "cells": [
  {
   "cell_type": "code",
   "execution_count": 1,
   "metadata": {
    "collapsed": true
   },
   "outputs": [
    {
     "data": {
      "text/plain": "              userid  sessionid                   ds        action  \\\n0         user_10000          1  2021-12-28T02:33:15      mainpage   \n1         user_10000          1  2021-12-28T02:33:29        search   \n2         user_10000          1  2021-12-28T02:33:47       product   \n3         user_10000          1  2021-12-28T02:33:59      mainpage   \n4         user_10000          1  2021-12-28T02:34:10      category   \n...              ...        ...                  ...           ...   \n14553412  user_14999        529  2025-01-02T04:00:01          cart   \n14553413  user_14999        529  2025-01-02T04:00:45      checkout   \n14553414  user_14999        529  2025-01-02T04:01:08  confirmation   \n14553415  user_14999        530  2025-01-03T04:01:15        search   \n14553416  user_14999        530  2025-01-03T04:01:23       product   \n\n                 value                  category  age gender       city  \\\n0             0.000000                      None   48      М       Омск   \n1             0.000000  Продовольственные товары   48      М       Омск   \n2             0.000000  Продовольственные товары   48      М       Омск   \n3             0.000000                      None   48      М       Омск   \n4             0.000000          Товары для детей   48      М       Омск   \n...                ...                       ...  ...    ...        ...   \n14553412  23613.725533  Продовольственные товары   34      Ж  Челябинск   \n14553413    992.000000                      None   34      Ж  Челябинск   \n14553414    992.000000                      None   34      Ж  Челябинск   \n14553415      0.000000  Продовольственные товары   34      Ж  Челябинск   \n14553416      0.000000  Продовольственные товары   34      Ж  Челябинск   \n\n                          point  \n0         [54.989347,73.368221]  \n1         [54.989347,73.368221]  \n2         [54.989347,73.368221]  \n3         [54.989347,73.368221]  \n4         [54.989347,73.368221]  \n...                         ...  \n14553412  [55.159902,61.402554]  \n14553413  [55.159902,61.402554]  \n14553414  [55.159902,61.402554]  \n14553415  [55.159902,61.402554]  \n14553416  [55.159902,61.402554]  \n\n[14553417 rows x 10 columns]",
      "text/html": "<div>\n<style scoped>\n    .dataframe tbody tr th:only-of-type {\n        vertical-align: middle;\n    }\n\n    .dataframe tbody tr th {\n        vertical-align: top;\n    }\n\n    .dataframe thead th {\n        text-align: right;\n    }\n</style>\n<table border=\"1\" class=\"dataframe\">\n  <thead>\n    <tr style=\"text-align: right;\">\n      <th></th>\n      <th>userid</th>\n      <th>sessionid</th>\n      <th>ds</th>\n      <th>action</th>\n      <th>value</th>\n      <th>category</th>\n      <th>age</th>\n      <th>gender</th>\n      <th>city</th>\n      <th>point</th>\n    </tr>\n  </thead>\n  <tbody>\n    <tr>\n      <th>0</th>\n      <td>user_10000</td>\n      <td>1</td>\n      <td>2021-12-28T02:33:15</td>\n      <td>mainpage</td>\n      <td>0.000000</td>\n      <td>None</td>\n      <td>48</td>\n      <td>М</td>\n      <td>Омск</td>\n      <td>[54.989347,73.368221]</td>\n    </tr>\n    <tr>\n      <th>1</th>\n      <td>user_10000</td>\n      <td>1</td>\n      <td>2021-12-28T02:33:29</td>\n      <td>search</td>\n      <td>0.000000</td>\n      <td>Продовольственные товары</td>\n      <td>48</td>\n      <td>М</td>\n      <td>Омск</td>\n      <td>[54.989347,73.368221]</td>\n    </tr>\n    <tr>\n      <th>2</th>\n      <td>user_10000</td>\n      <td>1</td>\n      <td>2021-12-28T02:33:47</td>\n      <td>product</td>\n      <td>0.000000</td>\n      <td>Продовольственные товары</td>\n      <td>48</td>\n      <td>М</td>\n      <td>Омск</td>\n      <td>[54.989347,73.368221]</td>\n    </tr>\n    <tr>\n      <th>3</th>\n      <td>user_10000</td>\n      <td>1</td>\n      <td>2021-12-28T02:33:59</td>\n      <td>mainpage</td>\n      <td>0.000000</td>\n      <td>None</td>\n      <td>48</td>\n      <td>М</td>\n      <td>Омск</td>\n      <td>[54.989347,73.368221]</td>\n    </tr>\n    <tr>\n      <th>4</th>\n      <td>user_10000</td>\n      <td>1</td>\n      <td>2021-12-28T02:34:10</td>\n      <td>category</td>\n      <td>0.000000</td>\n      <td>Товары для детей</td>\n      <td>48</td>\n      <td>М</td>\n      <td>Омск</td>\n      <td>[54.989347,73.368221]</td>\n    </tr>\n    <tr>\n      <th>...</th>\n      <td>...</td>\n      <td>...</td>\n      <td>...</td>\n      <td>...</td>\n      <td>...</td>\n      <td>...</td>\n      <td>...</td>\n      <td>...</td>\n      <td>...</td>\n      <td>...</td>\n    </tr>\n    <tr>\n      <th>14553412</th>\n      <td>user_14999</td>\n      <td>529</td>\n      <td>2025-01-02T04:00:01</td>\n      <td>cart</td>\n      <td>23613.725533</td>\n      <td>Продовольственные товары</td>\n      <td>34</td>\n      <td>Ж</td>\n      <td>Челябинск</td>\n      <td>[55.159902,61.402554]</td>\n    </tr>\n    <tr>\n      <th>14553413</th>\n      <td>user_14999</td>\n      <td>529</td>\n      <td>2025-01-02T04:00:45</td>\n      <td>checkout</td>\n      <td>992.000000</td>\n      <td>None</td>\n      <td>34</td>\n      <td>Ж</td>\n      <td>Челябинск</td>\n      <td>[55.159902,61.402554]</td>\n    </tr>\n    <tr>\n      <th>14553414</th>\n      <td>user_14999</td>\n      <td>529</td>\n      <td>2025-01-02T04:01:08</td>\n      <td>confirmation</td>\n      <td>992.000000</td>\n      <td>None</td>\n      <td>34</td>\n      <td>Ж</td>\n      <td>Челябинск</td>\n      <td>[55.159902,61.402554]</td>\n    </tr>\n    <tr>\n      <th>14553415</th>\n      <td>user_14999</td>\n      <td>530</td>\n      <td>2025-01-03T04:01:15</td>\n      <td>search</td>\n      <td>0.000000</td>\n      <td>Продовольственные товары</td>\n      <td>34</td>\n      <td>Ж</td>\n      <td>Челябинск</td>\n      <td>[55.159902,61.402554]</td>\n    </tr>\n    <tr>\n      <th>14553416</th>\n      <td>user_14999</td>\n      <td>530</td>\n      <td>2025-01-03T04:01:23</td>\n      <td>product</td>\n      <td>0.000000</td>\n      <td>Продовольственные товары</td>\n      <td>34</td>\n      <td>Ж</td>\n      <td>Челябинск</td>\n      <td>[55.159902,61.402554]</td>\n    </tr>\n  </tbody>\n</table>\n<p>14553417 rows × 10 columns</p>\n</div>"
     },
     "execution_count": 1,
     "metadata": {},
     "output_type": "execute_result"
    }
   ],
   "source": [
    "import pandas as pd\n",
    "from datetime import datetime, timedelta\n",
    "from prophet import Prophet\n",
    "\n",
    "df = pd.read_csv('log-info.csv')\n",
    "\n",
    "df.rename(columns={'timestamp' : 'ds'}, inplace=True)\n",
    "df"
   ]
  },
  {
   "cell_type": "code",
   "execution_count": 2,
   "outputs": [],
   "source": [
    "predictions = 365\n",
    "\n",
    "def make_forecast(data):\n",
    "    m = Prophet()\n",
    "    m.fit(data)\n",
    "    future = m.make_future_dataframe(periods=predictions)\n",
    "    return m.predict(future)[['ds', 'yhat_lower', 'yhat_upper', 'yhat']]"
   ],
   "metadata": {
    "collapsed": false
   }
  },
  {
   "cell_type": "code",
   "execution_count": 3,
   "outputs": [
    {
     "name": "stderr",
     "output_type": "stream",
     "text": [
      "18:48:46 - cmdstanpy - INFO - Chain [1] start processing\n",
      "18:48:47 - cmdstanpy - INFO - Chain [1] done processing\n"
     ]
    },
    {
     "data": {
      "text/plain": "             ds    dau_lower    dau_upper          dau\n1105 2025-01-04  1932.439354  2303.164829  2119.630807\n1106 2025-01-05  1921.717892  2285.614041  2103.358113\n1107 2025-01-06  1951.723196  2317.053495  2122.732723\n1108 2025-01-07  1920.784499  2291.814987  2105.918379\n1109 2025-01-08  1959.786915  2319.479967  2135.122837\n...         ...          ...          ...          ...\n1465 2025-12-30  1866.146176  2250.088061  2065.888538\n1466 2025-12-31  1909.851557  2289.405250  2092.868413\n1467 2026-01-01  1912.319482  2290.043067  2091.352384\n1468 2026-01-02  1908.980605  2299.680062  2102.887560\n1469 2026-01-03  1934.214188  2307.645431  2114.907959\n\n[365 rows x 4 columns]",
      "text/html": "<div>\n<style scoped>\n    .dataframe tbody tr th:only-of-type {\n        vertical-align: middle;\n    }\n\n    .dataframe tbody tr th {\n        vertical-align: top;\n    }\n\n    .dataframe thead th {\n        text-align: right;\n    }\n</style>\n<table border=\"1\" class=\"dataframe\">\n  <thead>\n    <tr style=\"text-align: right;\">\n      <th></th>\n      <th>ds</th>\n      <th>dau_lower</th>\n      <th>dau_upper</th>\n      <th>dau</th>\n    </tr>\n  </thead>\n  <tbody>\n    <tr>\n      <th>1105</th>\n      <td>2025-01-04</td>\n      <td>1932.439354</td>\n      <td>2303.164829</td>\n      <td>2119.630807</td>\n    </tr>\n    <tr>\n      <th>1106</th>\n      <td>2025-01-05</td>\n      <td>1921.717892</td>\n      <td>2285.614041</td>\n      <td>2103.358113</td>\n    </tr>\n    <tr>\n      <th>1107</th>\n      <td>2025-01-06</td>\n      <td>1951.723196</td>\n      <td>2317.053495</td>\n      <td>2122.732723</td>\n    </tr>\n    <tr>\n      <th>1108</th>\n      <td>2025-01-07</td>\n      <td>1920.784499</td>\n      <td>2291.814987</td>\n      <td>2105.918379</td>\n    </tr>\n    <tr>\n      <th>1109</th>\n      <td>2025-01-08</td>\n      <td>1959.786915</td>\n      <td>2319.479967</td>\n      <td>2135.122837</td>\n    </tr>\n    <tr>\n      <th>...</th>\n      <td>...</td>\n      <td>...</td>\n      <td>...</td>\n      <td>...</td>\n    </tr>\n    <tr>\n      <th>1465</th>\n      <td>2025-12-30</td>\n      <td>1866.146176</td>\n      <td>2250.088061</td>\n      <td>2065.888538</td>\n    </tr>\n    <tr>\n      <th>1466</th>\n      <td>2025-12-31</td>\n      <td>1909.851557</td>\n      <td>2289.405250</td>\n      <td>2092.868413</td>\n    </tr>\n    <tr>\n      <th>1467</th>\n      <td>2026-01-01</td>\n      <td>1912.319482</td>\n      <td>2290.043067</td>\n      <td>2091.352384</td>\n    </tr>\n    <tr>\n      <th>1468</th>\n      <td>2026-01-02</td>\n      <td>1908.980605</td>\n      <td>2299.680062</td>\n      <td>2102.887560</td>\n    </tr>\n    <tr>\n      <th>1469</th>\n      <td>2026-01-03</td>\n      <td>1934.214188</td>\n      <td>2307.645431</td>\n      <td>2114.907959</td>\n    </tr>\n  </tbody>\n</table>\n<p>365 rows × 4 columns</p>\n</div>"
     },
     "execution_count": 3,
     "metadata": {},
     "output_type": "execute_result"
    }
   ],
   "source": [
    "dau = df[['ds', 'userid']].copy()\n",
    "\n",
    "dau['ds'] = dau['ds'].apply(lambda x: x[:10])\n",
    "\n",
    "\n",
    "dau = dau.groupby('ds')['userid'].apply(lambda x: len(x.unique())).reset_index() \\\n",
    "    .rename(columns={'userid' : 'y'})\n",
    "\n",
    "dau = make_forecast(dau).iloc[-predictions:] \\\n",
    "    .rename(columns={'yhat_lower' : 'dau_lower', 'yhat_upper' : 'dau_upper', 'yhat' : 'dau'})\n",
    "dau"
   ],
   "metadata": {
    "collapsed": false
   }
  },
  {
   "cell_type": "code",
   "execution_count": 4,
   "outputs": [
    {
     "name": "stderr",
     "output_type": "stream",
     "text": [
      "18:48:50 - cmdstanpy - INFO - Chain [1] start processing\n",
      "18:48:51 - cmdstanpy - INFO - Chain [1] done processing\n"
     ]
    },
    {
     "data": {
      "text/plain": "             ds  revenue_lower  revenue_upper        revenue\n1104 2025-01-04  586459.903557  863492.143353  720781.799374\n1105 2025-01-05  590721.293507  865274.987477  728055.696018\n1106 2025-01-06  573324.219023  854438.395332  715677.851171\n1107 2025-01-07  561100.892940  854228.820819  711372.336071\n1108 2025-01-08  563744.555439  829593.944923  698388.099004\n...         ...            ...            ...            ...\n1464 2025-12-30  583551.033722  865470.746605  728195.458086\n1465 2025-12-31  576605.008336  853017.475937  716789.589539\n1466 2026-01-01  566477.423852  846346.823214  708208.194639\n1467 2026-01-02  593490.704077  878390.661027  734369.453086\n1468 2026-01-03  586590.115479  870963.902470  723379.372747\n\n[365 rows x 4 columns]",
      "text/html": "<div>\n<style scoped>\n    .dataframe tbody tr th:only-of-type {\n        vertical-align: middle;\n    }\n\n    .dataframe tbody tr th {\n        vertical-align: top;\n    }\n\n    .dataframe thead th {\n        text-align: right;\n    }\n</style>\n<table border=\"1\" class=\"dataframe\">\n  <thead>\n    <tr style=\"text-align: right;\">\n      <th></th>\n      <th>ds</th>\n      <th>revenue_lower</th>\n      <th>revenue_upper</th>\n      <th>revenue</th>\n    </tr>\n  </thead>\n  <tbody>\n    <tr>\n      <th>1104</th>\n      <td>2025-01-04</td>\n      <td>586459.903557</td>\n      <td>863492.143353</td>\n      <td>720781.799374</td>\n    </tr>\n    <tr>\n      <th>1105</th>\n      <td>2025-01-05</td>\n      <td>590721.293507</td>\n      <td>865274.987477</td>\n      <td>728055.696018</td>\n    </tr>\n    <tr>\n      <th>1106</th>\n      <td>2025-01-06</td>\n      <td>573324.219023</td>\n      <td>854438.395332</td>\n      <td>715677.851171</td>\n    </tr>\n    <tr>\n      <th>1107</th>\n      <td>2025-01-07</td>\n      <td>561100.892940</td>\n      <td>854228.820819</td>\n      <td>711372.336071</td>\n    </tr>\n    <tr>\n      <th>1108</th>\n      <td>2025-01-08</td>\n      <td>563744.555439</td>\n      <td>829593.944923</td>\n      <td>698388.099004</td>\n    </tr>\n    <tr>\n      <th>...</th>\n      <td>...</td>\n      <td>...</td>\n      <td>...</td>\n      <td>...</td>\n    </tr>\n    <tr>\n      <th>1464</th>\n      <td>2025-12-30</td>\n      <td>583551.033722</td>\n      <td>865470.746605</td>\n      <td>728195.458086</td>\n    </tr>\n    <tr>\n      <th>1465</th>\n      <td>2025-12-31</td>\n      <td>576605.008336</td>\n      <td>853017.475937</td>\n      <td>716789.589539</td>\n    </tr>\n    <tr>\n      <th>1466</th>\n      <td>2026-01-01</td>\n      <td>566477.423852</td>\n      <td>846346.823214</td>\n      <td>708208.194639</td>\n    </tr>\n    <tr>\n      <th>1467</th>\n      <td>2026-01-02</td>\n      <td>593490.704077</td>\n      <td>878390.661027</td>\n      <td>734369.453086</td>\n    </tr>\n    <tr>\n      <th>1468</th>\n      <td>2026-01-03</td>\n      <td>586590.115479</td>\n      <td>870963.902470</td>\n      <td>723379.372747</td>\n    </tr>\n  </tbody>\n</table>\n<p>365 rows × 4 columns</p>\n</div>"
     },
     "execution_count": 4,
     "metadata": {},
     "output_type": "execute_result"
    }
   ],
   "source": [
    "revenue = df.loc[df['action'] == 'confirmation'][['ds', 'value']]\n",
    "\n",
    "revenue['ds'] = revenue['ds'].apply(lambda x: x[:10])\n",
    "\n",
    "\n",
    "revenue = revenue.groupby('ds')['value'].sum().reset_index() \\\n",
    "    .rename(columns={'value' : 'y'})\n",
    "\n",
    "revenue = make_forecast(revenue).iloc[-predictions:] \\\n",
    "    .rename(columns={'yhat_lower' : 'revenue_lower', 'yhat_upper' : 'revenue_upper', 'yhat' : 'revenue'})\n",
    "revenue"
   ],
   "metadata": {
    "collapsed": false
   }
  },
  {
   "cell_type": "code",
   "execution_count": 5,
   "outputs": [
    {
     "name": "stderr",
     "output_type": "stream",
     "text": [
      "18:48:54 - cmdstanpy - INFO - Chain [1] start processing\n",
      "18:48:54 - cmdstanpy - INFO - Chain [1] done processing\n"
     ]
    },
    {
     "data": {
      "text/plain": "             ds  orders_lower  orders_upper      orders\n1104 2025-01-04     85.666377    117.161781  102.028342\n1105 2025-01-05     85.639062    116.317008  100.905671\n1106 2025-01-06     85.509349    116.126822  100.667862\n1107 2025-01-07     83.144586    115.247611  100.409916\n1108 2025-01-08     84.498328    115.582309  100.953102\n...         ...           ...           ...         ...\n1464 2025-12-30     84.312953    116.682396  100.342103\n1465 2025-12-31     85.535046    117.193864  101.015296\n1466 2026-01-01     83.671094    113.396037   99.417269\n1467 2026-01-02     85.641095    117.969495  101.893977\n1468 2026-01-03     86.873224    117.509862  101.779412\n\n[365 rows x 4 columns]",
      "text/html": "<div>\n<style scoped>\n    .dataframe tbody tr th:only-of-type {\n        vertical-align: middle;\n    }\n\n    .dataframe tbody tr th {\n        vertical-align: top;\n    }\n\n    .dataframe thead th {\n        text-align: right;\n    }\n</style>\n<table border=\"1\" class=\"dataframe\">\n  <thead>\n    <tr style=\"text-align: right;\">\n      <th></th>\n      <th>ds</th>\n      <th>orders_lower</th>\n      <th>orders_upper</th>\n      <th>orders</th>\n    </tr>\n  </thead>\n  <tbody>\n    <tr>\n      <th>1104</th>\n      <td>2025-01-04</td>\n      <td>85.666377</td>\n      <td>117.161781</td>\n      <td>102.028342</td>\n    </tr>\n    <tr>\n      <th>1105</th>\n      <td>2025-01-05</td>\n      <td>85.639062</td>\n      <td>116.317008</td>\n      <td>100.905671</td>\n    </tr>\n    <tr>\n      <th>1106</th>\n      <td>2025-01-06</td>\n      <td>85.509349</td>\n      <td>116.126822</td>\n      <td>100.667862</td>\n    </tr>\n    <tr>\n      <th>1107</th>\n      <td>2025-01-07</td>\n      <td>83.144586</td>\n      <td>115.247611</td>\n      <td>100.409916</td>\n    </tr>\n    <tr>\n      <th>1108</th>\n      <td>2025-01-08</td>\n      <td>84.498328</td>\n      <td>115.582309</td>\n      <td>100.953102</td>\n    </tr>\n    <tr>\n      <th>...</th>\n      <td>...</td>\n      <td>...</td>\n      <td>...</td>\n      <td>...</td>\n    </tr>\n    <tr>\n      <th>1464</th>\n      <td>2025-12-30</td>\n      <td>84.312953</td>\n      <td>116.682396</td>\n      <td>100.342103</td>\n    </tr>\n    <tr>\n      <th>1465</th>\n      <td>2025-12-31</td>\n      <td>85.535046</td>\n      <td>117.193864</td>\n      <td>101.015296</td>\n    </tr>\n    <tr>\n      <th>1466</th>\n      <td>2026-01-01</td>\n      <td>83.671094</td>\n      <td>113.396037</td>\n      <td>99.417269</td>\n    </tr>\n    <tr>\n      <th>1467</th>\n      <td>2026-01-02</td>\n      <td>85.641095</td>\n      <td>117.969495</td>\n      <td>101.893977</td>\n    </tr>\n    <tr>\n      <th>1468</th>\n      <td>2026-01-03</td>\n      <td>86.873224</td>\n      <td>117.509862</td>\n      <td>101.779412</td>\n    </tr>\n  </tbody>\n</table>\n<p>365 rows × 4 columns</p>\n</div>"
     },
     "execution_count": 5,
     "metadata": {},
     "output_type": "execute_result"
    }
   ],
   "source": [
    "orders = df.loc[df['action'] == 'confirmation'][['ds', 'value']]\n",
    "\n",
    "orders['ds'] = orders['ds'].apply(lambda x: x[:10])\n",
    "\n",
    "\n",
    "orders = orders.groupby('ds')['value'].count().reset_index() \\\n",
    "    .rename(columns={'value' : 'y'})\n",
    "\n",
    "orders = make_forecast(orders).iloc[-predictions:] \\\n",
    "    .rename(columns={'yhat_lower' : 'orders_lower', 'yhat_upper' : 'orders_upper', 'yhat' : 'orders'})\n",
    "orders"
   ],
   "metadata": {
    "collapsed": false
   }
  },
  {
   "cell_type": "code",
   "execution_count": 7,
   "outputs": [
    {
     "data": {
      "text/plain": "          date    dau_lower    dau_upper          dau  revenue_lower  \\\n0   2025-01-04  1932.439354  2303.164829  2119.630807  586459.903557   \n1   2025-01-05  1921.717892  2285.614041  2103.358113  590721.293507   \n2   2025-01-06  1951.723196  2317.053495  2122.732723  573324.219023   \n3   2025-01-07  1920.784499  2291.814987  2105.918379  561100.892940   \n4   2025-01-08  1959.786915  2319.479967  2135.122837  563744.555439   \n..         ...          ...          ...          ...            ...   \n360 2025-12-30  1866.146176  2250.088061  2065.888538  583551.033722   \n361 2025-12-31  1909.851557  2289.405250  2092.868413  576605.008336   \n362 2026-01-01  1912.319482  2290.043067  2091.352384  566477.423852   \n363 2026-01-02  1908.980605  2299.680062  2102.887560  593490.704077   \n364 2026-01-03  1934.214188  2307.645431  2114.907959  586590.115479   \n\n     revenue_upper        revenue  orders_lower  orders_upper      orders  \n0    863492.143353  720781.799374     85.666377    117.161781  102.028342  \n1    865274.987477  728055.696018     85.639062    116.317008  100.905671  \n2    854438.395332  715677.851171     85.509349    116.126822  100.667862  \n3    854228.820819  711372.336071     83.144586    115.247611  100.409916  \n4    829593.944923  698388.099004     84.498328    115.582309  100.953102  \n..             ...            ...           ...           ...         ...  \n360  865470.746605  728195.458086     84.312953    116.682396  100.342103  \n361  853017.475937  716789.589539     85.535046    117.193864  101.015296  \n362  846346.823214  708208.194639     83.671094    113.396037   99.417269  \n363  878390.661027  734369.453086     85.641095    117.969495  101.893977  \n364  870963.902470  723379.372747     86.873224    117.509862  101.779412  \n\n[365 rows x 10 columns]",
      "text/html": "<div>\n<style scoped>\n    .dataframe tbody tr th:only-of-type {\n        vertical-align: middle;\n    }\n\n    .dataframe tbody tr th {\n        vertical-align: top;\n    }\n\n    .dataframe thead th {\n        text-align: right;\n    }\n</style>\n<table border=\"1\" class=\"dataframe\">\n  <thead>\n    <tr style=\"text-align: right;\">\n      <th></th>\n      <th>date</th>\n      <th>dau_lower</th>\n      <th>dau_upper</th>\n      <th>dau</th>\n      <th>revenue_lower</th>\n      <th>revenue_upper</th>\n      <th>revenue</th>\n      <th>orders_lower</th>\n      <th>orders_upper</th>\n      <th>orders</th>\n    </tr>\n  </thead>\n  <tbody>\n    <tr>\n      <th>0</th>\n      <td>2025-01-04</td>\n      <td>1932.439354</td>\n      <td>2303.164829</td>\n      <td>2119.630807</td>\n      <td>586459.903557</td>\n      <td>863492.143353</td>\n      <td>720781.799374</td>\n      <td>85.666377</td>\n      <td>117.161781</td>\n      <td>102.028342</td>\n    </tr>\n    <tr>\n      <th>1</th>\n      <td>2025-01-05</td>\n      <td>1921.717892</td>\n      <td>2285.614041</td>\n      <td>2103.358113</td>\n      <td>590721.293507</td>\n      <td>865274.987477</td>\n      <td>728055.696018</td>\n      <td>85.639062</td>\n      <td>116.317008</td>\n      <td>100.905671</td>\n    </tr>\n    <tr>\n      <th>2</th>\n      <td>2025-01-06</td>\n      <td>1951.723196</td>\n      <td>2317.053495</td>\n      <td>2122.732723</td>\n      <td>573324.219023</td>\n      <td>854438.395332</td>\n      <td>715677.851171</td>\n      <td>85.509349</td>\n      <td>116.126822</td>\n      <td>100.667862</td>\n    </tr>\n    <tr>\n      <th>3</th>\n      <td>2025-01-07</td>\n      <td>1920.784499</td>\n      <td>2291.814987</td>\n      <td>2105.918379</td>\n      <td>561100.892940</td>\n      <td>854228.820819</td>\n      <td>711372.336071</td>\n      <td>83.144586</td>\n      <td>115.247611</td>\n      <td>100.409916</td>\n    </tr>\n    <tr>\n      <th>4</th>\n      <td>2025-01-08</td>\n      <td>1959.786915</td>\n      <td>2319.479967</td>\n      <td>2135.122837</td>\n      <td>563744.555439</td>\n      <td>829593.944923</td>\n      <td>698388.099004</td>\n      <td>84.498328</td>\n      <td>115.582309</td>\n      <td>100.953102</td>\n    </tr>\n    <tr>\n      <th>...</th>\n      <td>...</td>\n      <td>...</td>\n      <td>...</td>\n      <td>...</td>\n      <td>...</td>\n      <td>...</td>\n      <td>...</td>\n      <td>...</td>\n      <td>...</td>\n      <td>...</td>\n    </tr>\n    <tr>\n      <th>360</th>\n      <td>2025-12-30</td>\n      <td>1866.146176</td>\n      <td>2250.088061</td>\n      <td>2065.888538</td>\n      <td>583551.033722</td>\n      <td>865470.746605</td>\n      <td>728195.458086</td>\n      <td>84.312953</td>\n      <td>116.682396</td>\n      <td>100.342103</td>\n    </tr>\n    <tr>\n      <th>361</th>\n      <td>2025-12-31</td>\n      <td>1909.851557</td>\n      <td>2289.405250</td>\n      <td>2092.868413</td>\n      <td>576605.008336</td>\n      <td>853017.475937</td>\n      <td>716789.589539</td>\n      <td>85.535046</td>\n      <td>117.193864</td>\n      <td>101.015296</td>\n    </tr>\n    <tr>\n      <th>362</th>\n      <td>2026-01-01</td>\n      <td>1912.319482</td>\n      <td>2290.043067</td>\n      <td>2091.352384</td>\n      <td>566477.423852</td>\n      <td>846346.823214</td>\n      <td>708208.194639</td>\n      <td>83.671094</td>\n      <td>113.396037</td>\n      <td>99.417269</td>\n    </tr>\n    <tr>\n      <th>363</th>\n      <td>2026-01-02</td>\n      <td>1908.980605</td>\n      <td>2299.680062</td>\n      <td>2102.887560</td>\n      <td>593490.704077</td>\n      <td>878390.661027</td>\n      <td>734369.453086</td>\n      <td>85.641095</td>\n      <td>117.969495</td>\n      <td>101.893977</td>\n    </tr>\n    <tr>\n      <th>364</th>\n      <td>2026-01-03</td>\n      <td>1934.214188</td>\n      <td>2307.645431</td>\n      <td>2114.907959</td>\n      <td>586590.115479</td>\n      <td>870963.902470</td>\n      <td>723379.372747</td>\n      <td>86.873224</td>\n      <td>117.509862</td>\n      <td>101.779412</td>\n    </tr>\n  </tbody>\n</table>\n<p>365 rows × 10 columns</p>\n</div>"
     },
     "execution_count": 7,
     "metadata": {},
     "output_type": "execute_result"
    }
   ],
   "source": [
    "result = dau.merge(revenue, how='outer', on='ds') \\\n",
    "    .merge(orders, how='outer', on='ds')\n",
    "\n",
    "result.rename(columns={'ds' : 'date'}, inplace=True)\n",
    "\n",
    "result.to_csv('forecast.csv', index=False)\n",
    "result"
   ],
   "metadata": {
    "collapsed": false
   }
  }
 ],
 "metadata": {
  "kernelspec": {
   "display_name": "Python 3",
   "language": "python",
   "name": "python3"
  },
  "language_info": {
   "codemirror_mode": {
    "name": "ipython",
    "version": 2
   },
   "file_extension": ".py",
   "mimetype": "text/x-python",
   "name": "python",
   "nbconvert_exporter": "python",
   "pygments_lexer": "ipython2",
   "version": "2.7.6"
  }
 },
 "nbformat": 4,
 "nbformat_minor": 0
}
