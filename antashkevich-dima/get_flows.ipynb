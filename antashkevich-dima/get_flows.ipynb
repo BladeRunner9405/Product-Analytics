{
 "cells": [
  {
   "cell_type": "code",
   "execution_count": 1,
   "metadata": {
    "collapsed": true
   },
   "outputs": [
    {
     "data": {
      "text/plain": "             index      userid  sessionid            timestamp        action  \\\n0                0  user_10000          1  2021-12-28T02:33:15      mainpage   \n1                1  user_10000          1  2021-12-28T02:33:29        search   \n2                2  user_10000          1  2021-12-28T02:33:47       product   \n3                3  user_10000          1  2021-12-28T02:33:59      mainpage   \n4                4  user_10000          1  2021-12-28T02:34:10      category   \n...            ...         ...        ...                  ...           ...   \n14553412  14553412  user_14999        529  2025-01-02T04:00:01          cart   \n14553413  14553413  user_14999        529  2025-01-02T04:00:45      checkout   \n14553414  14553414  user_14999        529  2025-01-02T04:01:08  confirmation   \n14553415  14553415  user_14999        530  2025-01-03T04:01:15        search   \n14553416  14553416  user_14999        530  2025-01-03T04:01:23       product   \n\n                 value                  category  age gender       city  \\\n0             0.000000                      None   48      М       Омск   \n1             0.000000  Продовольственные товары   48      М       Омск   \n2             0.000000  Продовольственные товары   48      М       Омск   \n3             0.000000                      None   48      М       Омск   \n4             0.000000          Товары для детей   48      М       Омск   \n...                ...                       ...  ...    ...        ...   \n14553412  23613.725533  Продовольственные товары   34      Ж  Челябинск   \n14553413    992.000000                      None   34      Ж  Челябинск   \n14553414    992.000000                      None   34      Ж  Челябинск   \n14553415      0.000000  Продовольственные товары   34      Ж  Челябинск   \n14553416      0.000000  Продовольственные товары   34      Ж  Челябинск   \n\n                          point  \n0         [54.989347,73.368221]  \n1         [54.989347,73.368221]  \n2         [54.989347,73.368221]  \n3         [54.989347,73.368221]  \n4         [54.989347,73.368221]  \n...                         ...  \n14553412  [55.159902,61.402554]  \n14553413  [55.159902,61.402554]  \n14553414  [55.159902,61.402554]  \n14553415  [55.159902,61.402554]  \n14553416  [55.159902,61.402554]  \n\n[14553417 rows x 11 columns]",
      "text/html": "<div>\n<style scoped>\n    .dataframe tbody tr th:only-of-type {\n        vertical-align: middle;\n    }\n\n    .dataframe tbody tr th {\n        vertical-align: top;\n    }\n\n    .dataframe thead th {\n        text-align: right;\n    }\n</style>\n<table border=\"1\" class=\"dataframe\">\n  <thead>\n    <tr style=\"text-align: right;\">\n      <th></th>\n      <th>index</th>\n      <th>userid</th>\n      <th>sessionid</th>\n      <th>timestamp</th>\n      <th>action</th>\n      <th>value</th>\n      <th>category</th>\n      <th>age</th>\n      <th>gender</th>\n      <th>city</th>\n      <th>point</th>\n    </tr>\n  </thead>\n  <tbody>\n    <tr>\n      <th>0</th>\n      <td>0</td>\n      <td>user_10000</td>\n      <td>1</td>\n      <td>2021-12-28T02:33:15</td>\n      <td>mainpage</td>\n      <td>0.000000</td>\n      <td>None</td>\n      <td>48</td>\n      <td>М</td>\n      <td>Омск</td>\n      <td>[54.989347,73.368221]</td>\n    </tr>\n    <tr>\n      <th>1</th>\n      <td>1</td>\n      <td>user_10000</td>\n      <td>1</td>\n      <td>2021-12-28T02:33:29</td>\n      <td>search</td>\n      <td>0.000000</td>\n      <td>Продовольственные товары</td>\n      <td>48</td>\n      <td>М</td>\n      <td>Омск</td>\n      <td>[54.989347,73.368221]</td>\n    </tr>\n    <tr>\n      <th>2</th>\n      <td>2</td>\n      <td>user_10000</td>\n      <td>1</td>\n      <td>2021-12-28T02:33:47</td>\n      <td>product</td>\n      <td>0.000000</td>\n      <td>Продовольственные товары</td>\n      <td>48</td>\n      <td>М</td>\n      <td>Омск</td>\n      <td>[54.989347,73.368221]</td>\n    </tr>\n    <tr>\n      <th>3</th>\n      <td>3</td>\n      <td>user_10000</td>\n      <td>1</td>\n      <td>2021-12-28T02:33:59</td>\n      <td>mainpage</td>\n      <td>0.000000</td>\n      <td>None</td>\n      <td>48</td>\n      <td>М</td>\n      <td>Омск</td>\n      <td>[54.989347,73.368221]</td>\n    </tr>\n    <tr>\n      <th>4</th>\n      <td>4</td>\n      <td>user_10000</td>\n      <td>1</td>\n      <td>2021-12-28T02:34:10</td>\n      <td>category</td>\n      <td>0.000000</td>\n      <td>Товары для детей</td>\n      <td>48</td>\n      <td>М</td>\n      <td>Омск</td>\n      <td>[54.989347,73.368221]</td>\n    </tr>\n    <tr>\n      <th>...</th>\n      <td>...</td>\n      <td>...</td>\n      <td>...</td>\n      <td>...</td>\n      <td>...</td>\n      <td>...</td>\n      <td>...</td>\n      <td>...</td>\n      <td>...</td>\n      <td>...</td>\n      <td>...</td>\n    </tr>\n    <tr>\n      <th>14553412</th>\n      <td>14553412</td>\n      <td>user_14999</td>\n      <td>529</td>\n      <td>2025-01-02T04:00:01</td>\n      <td>cart</td>\n      <td>23613.725533</td>\n      <td>Продовольственные товары</td>\n      <td>34</td>\n      <td>Ж</td>\n      <td>Челябинск</td>\n      <td>[55.159902,61.402554]</td>\n    </tr>\n    <tr>\n      <th>14553413</th>\n      <td>14553413</td>\n      <td>user_14999</td>\n      <td>529</td>\n      <td>2025-01-02T04:00:45</td>\n      <td>checkout</td>\n      <td>992.000000</td>\n      <td>None</td>\n      <td>34</td>\n      <td>Ж</td>\n      <td>Челябинск</td>\n      <td>[55.159902,61.402554]</td>\n    </tr>\n    <tr>\n      <th>14553414</th>\n      <td>14553414</td>\n      <td>user_14999</td>\n      <td>529</td>\n      <td>2025-01-02T04:01:08</td>\n      <td>confirmation</td>\n      <td>992.000000</td>\n      <td>None</td>\n      <td>34</td>\n      <td>Ж</td>\n      <td>Челябинск</td>\n      <td>[55.159902,61.402554]</td>\n    </tr>\n    <tr>\n      <th>14553415</th>\n      <td>14553415</td>\n      <td>user_14999</td>\n      <td>530</td>\n      <td>2025-01-03T04:01:15</td>\n      <td>search</td>\n      <td>0.000000</td>\n      <td>Продовольственные товары</td>\n      <td>34</td>\n      <td>Ж</td>\n      <td>Челябинск</td>\n      <td>[55.159902,61.402554]</td>\n    </tr>\n    <tr>\n      <th>14553416</th>\n      <td>14553416</td>\n      <td>user_14999</td>\n      <td>530</td>\n      <td>2025-01-03T04:01:23</td>\n      <td>product</td>\n      <td>0.000000</td>\n      <td>Продовольственные товары</td>\n      <td>34</td>\n      <td>Ж</td>\n      <td>Челябинск</td>\n      <td>[55.159902,61.402554]</td>\n    </tr>\n  </tbody>\n</table>\n<p>14553417 rows × 11 columns</p>\n</div>"
     },
     "execution_count": 1,
     "metadata": {},
     "output_type": "execute_result"
    }
   ],
   "source": [
    "import pandas as pd\n",
    "from datetime import datetime\n",
    "\n",
    "df = pd.read_csv('log-info.csv')\n",
    "\n",
    "df.reset_index(inplace=True)\n",
    "df"
   ]
  },
  {
   "cell_type": "code",
   "execution_count": 2,
   "outputs": [
    {
     "data": {
      "text/plain": "         index  join\n0            0     1\n1         3034     1\n2         5979     1\n3         8975     1\n4        11746     1\n...        ...   ...\n4995  14538777     1\n4996  14541741     1\n4997  14544886     1\n4998  14547654     1\n4999  14550823     1\n\n[5000 rows x 2 columns]",
      "text/html": "<div>\n<style scoped>\n    .dataframe tbody tr th:only-of-type {\n        vertical-align: middle;\n    }\n\n    .dataframe tbody tr th {\n        vertical-align: top;\n    }\n\n    .dataframe thead th {\n        text-align: right;\n    }\n</style>\n<table border=\"1\" class=\"dataframe\">\n  <thead>\n    <tr style=\"text-align: right;\">\n      <th></th>\n      <th>index</th>\n      <th>join</th>\n    </tr>\n  </thead>\n  <tbody>\n    <tr>\n      <th>0</th>\n      <td>0</td>\n      <td>1</td>\n    </tr>\n    <tr>\n      <th>1</th>\n      <td>3034</td>\n      <td>1</td>\n    </tr>\n    <tr>\n      <th>2</th>\n      <td>5979</td>\n      <td>1</td>\n    </tr>\n    <tr>\n      <th>3</th>\n      <td>8975</td>\n      <td>1</td>\n    </tr>\n    <tr>\n      <th>4</th>\n      <td>11746</td>\n      <td>1</td>\n    </tr>\n    <tr>\n      <th>...</th>\n      <td>...</td>\n      <td>...</td>\n    </tr>\n    <tr>\n      <th>4995</th>\n      <td>14538777</td>\n      <td>1</td>\n    </tr>\n    <tr>\n      <th>4996</th>\n      <td>14541741</td>\n      <td>1</td>\n    </tr>\n    <tr>\n      <th>4997</th>\n      <td>14544886</td>\n      <td>1</td>\n    </tr>\n    <tr>\n      <th>4998</th>\n      <td>14547654</td>\n      <td>1</td>\n    </tr>\n    <tr>\n      <th>4999</th>\n      <td>14550823</td>\n      <td>1</td>\n    </tr>\n  </tbody>\n</table>\n<p>5000 rows × 2 columns</p>\n</div>"
     },
     "execution_count": 2,
     "metadata": {},
     "output_type": "execute_result"
    }
   ],
   "source": [
    "first = df.groupby('userid')['index'].min().reset_index()\n",
    "first['join'] = 1\n",
    "first.drop(columns='userid', inplace=True)\n",
    "first"
   ],
   "metadata": {
    "collapsed": false
   }
  },
  {
   "cell_type": "code",
   "execution_count": 3,
   "outputs": [
    {
     "data": {
      "text/plain": "         index  leave\n0         3033      1\n1         5978      1\n2         8974      1\n3        11745      1\n4        14720      1\n...        ...    ...\n4995  14541740      1\n4996  14544885      1\n4997  14547653      1\n4998  14550822      1\n4999  14553416      1\n\n[5000 rows x 2 columns]",
      "text/html": "<div>\n<style scoped>\n    .dataframe tbody tr th:only-of-type {\n        vertical-align: middle;\n    }\n\n    .dataframe tbody tr th {\n        vertical-align: top;\n    }\n\n    .dataframe thead th {\n        text-align: right;\n    }\n</style>\n<table border=\"1\" class=\"dataframe\">\n  <thead>\n    <tr style=\"text-align: right;\">\n      <th></th>\n      <th>index</th>\n      <th>leave</th>\n    </tr>\n  </thead>\n  <tbody>\n    <tr>\n      <th>0</th>\n      <td>3033</td>\n      <td>1</td>\n    </tr>\n    <tr>\n      <th>1</th>\n      <td>5978</td>\n      <td>1</td>\n    </tr>\n    <tr>\n      <th>2</th>\n      <td>8974</td>\n      <td>1</td>\n    </tr>\n    <tr>\n      <th>3</th>\n      <td>11745</td>\n      <td>1</td>\n    </tr>\n    <tr>\n      <th>4</th>\n      <td>14720</td>\n      <td>1</td>\n    </tr>\n    <tr>\n      <th>...</th>\n      <td>...</td>\n      <td>...</td>\n    </tr>\n    <tr>\n      <th>4995</th>\n      <td>14541740</td>\n      <td>1</td>\n    </tr>\n    <tr>\n      <th>4996</th>\n      <td>14544885</td>\n      <td>1</td>\n    </tr>\n    <tr>\n      <th>4997</th>\n      <td>14547653</td>\n      <td>1</td>\n    </tr>\n    <tr>\n      <th>4998</th>\n      <td>14550822</td>\n      <td>1</td>\n    </tr>\n    <tr>\n      <th>4999</th>\n      <td>14553416</td>\n      <td>1</td>\n    </tr>\n  </tbody>\n</table>\n<p>5000 rows × 2 columns</p>\n</div>"
     },
     "execution_count": 3,
     "metadata": {},
     "output_type": "execute_result"
    }
   ],
   "source": [
    "last = df.groupby('userid')['index'].max().reset_index()\n",
    "last['leave'] = 1\n",
    "last.drop(columns='userid', inplace=True)\n",
    "last"
   ],
   "metadata": {
    "collapsed": false
   }
  },
  {
   "cell_type": "code",
   "execution_count": 4,
   "outputs": [],
   "source": [
    "df = df.merge(first, how='left', on='index').fillna(0) \\\n",
    "    .merge(last, how='left', on='index').fillna(0) \\\n",
    "    .drop(columns='index') \\\n",
    "    .astype({'join' : 'int', 'leave' : 'int'})"
   ],
   "metadata": {
    "collapsed": false
   }
  },
  {
   "cell_type": "code",
   "execution_count": 5,
   "outputs": [
    {
     "data": {
      "text/plain": "              userid  sessionid            timestamp    action       value  \\\n4555707   user_11565          1  2021-12-26T21:01:02   product    0.000000   \n12332526  user_14237          1  2021-12-26T21:03:37  category    0.000000   \n12332527  user_14237          1  2021-12-26T21:03:47    search    0.000000   \n12332528  user_14237          1  2021-12-26T21:04:02   product    0.000000   \n1207724   user_10415          1  2021-12-26T21:07:35    search    0.000000   \n...              ...        ...                  ...       ...         ...   \n4587662   user_11575        567  2025-01-03T21:03:12  category    0.000000   \n4587663   user_11575        567  2025-01-03T21:03:33   product    0.000000   \n4587664   user_11575        567  2025-01-03T21:03:54  category    0.000000   \n4587665   user_11575        567  2025-01-03T21:04:21      cart  967.042253   \n4587666   user_11575        567  2025-01-03T21:04:55  mainpage    0.000000   \n\n                               category  age gender       city  \\\n4555707   Электроника и бытовая техника   40      Ж  Челябинск   \n12332526             Красота и здоровье   28      Ж     Казань   \n12332527             Красота и здоровье   28      Ж     Казань   \n12332528             Красота и здоровье   28      Ж     Казань   \n1207724                  Одежда и обувь   32      М     Самара   \n...                                 ...  ...    ...        ...   \n4587662                Товары для детей   39      М     Казань   \n4587663                Товары для детей   39      М     Казань   \n4587664   Электроника и бытовая техника   39      М     Казань   \n4587665        Продовольственные товары   39      М     Казань   \n4587666                            None   39      М     Казань   \n\n                          point  join  leave  rjoin  rleave  \n4555707   [55.159902,61.402554]     1      0      1       0  \n12332526  [55.796127,49.106414]     1      0      2       0  \n12332527  [55.796127,49.106414]     0      0      2       0  \n12332528  [55.796127,49.106414]     0      0      2       0  \n1207724   [53.195878,50.100202]     1      0      3       0  \n...                         ...   ...    ...    ...     ...  \n4587662   [55.796127,49.106414]     0      0   5000    4999  \n4587663   [55.796127,49.106414]     0      0   5000    4999  \n4587664   [55.796127,49.106414]     0      0   5000    4999  \n4587665   [55.796127,49.106414]     0      0   5000    4999  \n4587666   [55.796127,49.106414]     0      1   5000    5000  \n\n[14553417 rows x 14 columns]",
      "text/html": "<div>\n<style scoped>\n    .dataframe tbody tr th:only-of-type {\n        vertical-align: middle;\n    }\n\n    .dataframe tbody tr th {\n        vertical-align: top;\n    }\n\n    .dataframe thead th {\n        text-align: right;\n    }\n</style>\n<table border=\"1\" class=\"dataframe\">\n  <thead>\n    <tr style=\"text-align: right;\">\n      <th></th>\n      <th>userid</th>\n      <th>sessionid</th>\n      <th>timestamp</th>\n      <th>action</th>\n      <th>value</th>\n      <th>category</th>\n      <th>age</th>\n      <th>gender</th>\n      <th>city</th>\n      <th>point</th>\n      <th>join</th>\n      <th>leave</th>\n      <th>rjoin</th>\n      <th>rleave</th>\n    </tr>\n  </thead>\n  <tbody>\n    <tr>\n      <th>4555707</th>\n      <td>user_11565</td>\n      <td>1</td>\n      <td>2021-12-26T21:01:02</td>\n      <td>product</td>\n      <td>0.000000</td>\n      <td>Электроника и бытовая техника</td>\n      <td>40</td>\n      <td>Ж</td>\n      <td>Челябинск</td>\n      <td>[55.159902,61.402554]</td>\n      <td>1</td>\n      <td>0</td>\n      <td>1</td>\n      <td>0</td>\n    </tr>\n    <tr>\n      <th>12332526</th>\n      <td>user_14237</td>\n      <td>1</td>\n      <td>2021-12-26T21:03:37</td>\n      <td>category</td>\n      <td>0.000000</td>\n      <td>Красота и здоровье</td>\n      <td>28</td>\n      <td>Ж</td>\n      <td>Казань</td>\n      <td>[55.796127,49.106414]</td>\n      <td>1</td>\n      <td>0</td>\n      <td>2</td>\n      <td>0</td>\n    </tr>\n    <tr>\n      <th>12332527</th>\n      <td>user_14237</td>\n      <td>1</td>\n      <td>2021-12-26T21:03:47</td>\n      <td>search</td>\n      <td>0.000000</td>\n      <td>Красота и здоровье</td>\n      <td>28</td>\n      <td>Ж</td>\n      <td>Казань</td>\n      <td>[55.796127,49.106414]</td>\n      <td>0</td>\n      <td>0</td>\n      <td>2</td>\n      <td>0</td>\n    </tr>\n    <tr>\n      <th>12332528</th>\n      <td>user_14237</td>\n      <td>1</td>\n      <td>2021-12-26T21:04:02</td>\n      <td>product</td>\n      <td>0.000000</td>\n      <td>Красота и здоровье</td>\n      <td>28</td>\n      <td>Ж</td>\n      <td>Казань</td>\n      <td>[55.796127,49.106414]</td>\n      <td>0</td>\n      <td>0</td>\n      <td>2</td>\n      <td>0</td>\n    </tr>\n    <tr>\n      <th>1207724</th>\n      <td>user_10415</td>\n      <td>1</td>\n      <td>2021-12-26T21:07:35</td>\n      <td>search</td>\n      <td>0.000000</td>\n      <td>Одежда и обувь</td>\n      <td>32</td>\n      <td>М</td>\n      <td>Самара</td>\n      <td>[53.195878,50.100202]</td>\n      <td>1</td>\n      <td>0</td>\n      <td>3</td>\n      <td>0</td>\n    </tr>\n    <tr>\n      <th>...</th>\n      <td>...</td>\n      <td>...</td>\n      <td>...</td>\n      <td>...</td>\n      <td>...</td>\n      <td>...</td>\n      <td>...</td>\n      <td>...</td>\n      <td>...</td>\n      <td>...</td>\n      <td>...</td>\n      <td>...</td>\n      <td>...</td>\n      <td>...</td>\n    </tr>\n    <tr>\n      <th>4587662</th>\n      <td>user_11575</td>\n      <td>567</td>\n      <td>2025-01-03T21:03:12</td>\n      <td>category</td>\n      <td>0.000000</td>\n      <td>Товары для детей</td>\n      <td>39</td>\n      <td>М</td>\n      <td>Казань</td>\n      <td>[55.796127,49.106414]</td>\n      <td>0</td>\n      <td>0</td>\n      <td>5000</td>\n      <td>4999</td>\n    </tr>\n    <tr>\n      <th>4587663</th>\n      <td>user_11575</td>\n      <td>567</td>\n      <td>2025-01-03T21:03:33</td>\n      <td>product</td>\n      <td>0.000000</td>\n      <td>Товары для детей</td>\n      <td>39</td>\n      <td>М</td>\n      <td>Казань</td>\n      <td>[55.796127,49.106414]</td>\n      <td>0</td>\n      <td>0</td>\n      <td>5000</td>\n      <td>4999</td>\n    </tr>\n    <tr>\n      <th>4587664</th>\n      <td>user_11575</td>\n      <td>567</td>\n      <td>2025-01-03T21:03:54</td>\n      <td>category</td>\n      <td>0.000000</td>\n      <td>Электроника и бытовая техника</td>\n      <td>39</td>\n      <td>М</td>\n      <td>Казань</td>\n      <td>[55.796127,49.106414]</td>\n      <td>0</td>\n      <td>0</td>\n      <td>5000</td>\n      <td>4999</td>\n    </tr>\n    <tr>\n      <th>4587665</th>\n      <td>user_11575</td>\n      <td>567</td>\n      <td>2025-01-03T21:04:21</td>\n      <td>cart</td>\n      <td>967.042253</td>\n      <td>Продовольственные товары</td>\n      <td>39</td>\n      <td>М</td>\n      <td>Казань</td>\n      <td>[55.796127,49.106414]</td>\n      <td>0</td>\n      <td>0</td>\n      <td>5000</td>\n      <td>4999</td>\n    </tr>\n    <tr>\n      <th>4587666</th>\n      <td>user_11575</td>\n      <td>567</td>\n      <td>2025-01-03T21:04:55</td>\n      <td>mainpage</td>\n      <td>0.000000</td>\n      <td>None</td>\n      <td>39</td>\n      <td>М</td>\n      <td>Казань</td>\n      <td>[55.796127,49.106414]</td>\n      <td>0</td>\n      <td>1</td>\n      <td>5000</td>\n      <td>5000</td>\n    </tr>\n  </tbody>\n</table>\n<p>14553417 rows × 14 columns</p>\n</div>"
     },
     "execution_count": 5,
     "metadata": {},
     "output_type": "execute_result"
    }
   ],
   "source": [
    "df.sort_values(by='timestamp', inplace=True)\n",
    "df['rjoin'] = df['join'].cumsum()\n",
    "df['rleave'] = df['leave'].cumsum()\n",
    "df"
   ],
   "metadata": {
    "collapsed": false
   }
  },
  {
   "cell_type": "code",
   "execution_count": 6,
   "outputs": [
    {
     "data": {
      "text/plain": "              userid  sessionid            timestamp    action       value  \\\n0         user_11565          1  2021-12-26T21:01:02   product    0.000000   \n1         user_14237          1  2021-12-26T21:03:37  category    0.000000   \n2         user_14237          1  2021-12-26T21:03:47    search    0.000000   \n3         user_14237          1  2021-12-26T21:04:02   product    0.000000   \n4         user_10415          1  2021-12-26T21:07:35    search    0.000000   \n...              ...        ...                  ...       ...         ...   \n14553412  user_11575        567  2025-01-03T21:03:12  category    0.000000   \n14553413  user_11575        567  2025-01-03T21:03:33   product    0.000000   \n14553414  user_11575        567  2025-01-03T21:03:54  category    0.000000   \n14553415  user_11575        567  2025-01-03T21:04:21      cart  967.042253   \n14553416  user_11575        567  2025-01-03T21:04:55  mainpage    0.000000   \n\n                               category  age gender       city  \\\n0         Электроника и бытовая техника   40      Ж  Челябинск   \n1                    Красота и здоровье   28      Ж     Казань   \n2                    Красота и здоровье   28      Ж     Казань   \n3                    Красота и здоровье   28      Ж     Казань   \n4                        Одежда и обувь   32      М     Самара   \n...                                 ...  ...    ...        ...   \n14553412               Товары для детей   39      М     Казань   \n14553413               Товары для детей   39      М     Казань   \n14553414  Электроника и бытовая техника   39      М     Казань   \n14553415       Продовольственные товары   39      М     Казань   \n14553416                           None   39      М     Казань   \n\n                          point  join  leave  rjoin  rleave  \\\n0         [55.159902,61.402554]     1      0      1       0   \n1         [55.796127,49.106414]     1      0      2       0   \n2         [55.796127,49.106414]     0      0      2       0   \n3         [55.796127,49.106414]     0      0      2       0   \n4         [53.195878,50.100202]     1      0      3       0   \n...                         ...   ...    ...    ...     ...   \n14553412  [55.796127,49.106414]     0      0   5000    4999   \n14553413  [55.796127,49.106414]     0      0   5000    4999   \n14553414  [55.796127,49.106414]     0      0   5000    4999   \n14553415  [55.796127,49.106414]     0      0   5000    4999   \n14553416  [55.796127,49.106414]     0      1   5000    5000   \n\n                 first_action  \n0         2021-12-26T21:01:02  \n1         2021-12-26T21:03:37  \n2         2021-12-26T21:03:37  \n3         2021-12-26T21:03:37  \n4         2021-12-26T21:07:35  \n...                       ...  \n14553412  2021-12-28T07:28:19  \n14553413  2021-12-28T07:28:19  \n14553414  2021-12-28T07:28:19  \n14553415  2021-12-28T07:28:19  \n14553416  2021-12-28T07:28:19  \n\n[14553417 rows x 15 columns]",
      "text/html": "<div>\n<style scoped>\n    .dataframe tbody tr th:only-of-type {\n        vertical-align: middle;\n    }\n\n    .dataframe tbody tr th {\n        vertical-align: top;\n    }\n\n    .dataframe thead th {\n        text-align: right;\n    }\n</style>\n<table border=\"1\" class=\"dataframe\">\n  <thead>\n    <tr style=\"text-align: right;\">\n      <th></th>\n      <th>userid</th>\n      <th>sessionid</th>\n      <th>timestamp</th>\n      <th>action</th>\n      <th>value</th>\n      <th>category</th>\n      <th>age</th>\n      <th>gender</th>\n      <th>city</th>\n      <th>point</th>\n      <th>join</th>\n      <th>leave</th>\n      <th>rjoin</th>\n      <th>rleave</th>\n      <th>first_action</th>\n    </tr>\n  </thead>\n  <tbody>\n    <tr>\n      <th>0</th>\n      <td>user_11565</td>\n      <td>1</td>\n      <td>2021-12-26T21:01:02</td>\n      <td>product</td>\n      <td>0.000000</td>\n      <td>Электроника и бытовая техника</td>\n      <td>40</td>\n      <td>Ж</td>\n      <td>Челябинск</td>\n      <td>[55.159902,61.402554]</td>\n      <td>1</td>\n      <td>0</td>\n      <td>1</td>\n      <td>0</td>\n      <td>2021-12-26T21:01:02</td>\n    </tr>\n    <tr>\n      <th>1</th>\n      <td>user_14237</td>\n      <td>1</td>\n      <td>2021-12-26T21:03:37</td>\n      <td>category</td>\n      <td>0.000000</td>\n      <td>Красота и здоровье</td>\n      <td>28</td>\n      <td>Ж</td>\n      <td>Казань</td>\n      <td>[55.796127,49.106414]</td>\n      <td>1</td>\n      <td>0</td>\n      <td>2</td>\n      <td>0</td>\n      <td>2021-12-26T21:03:37</td>\n    </tr>\n    <tr>\n      <th>2</th>\n      <td>user_14237</td>\n      <td>1</td>\n      <td>2021-12-26T21:03:47</td>\n      <td>search</td>\n      <td>0.000000</td>\n      <td>Красота и здоровье</td>\n      <td>28</td>\n      <td>Ж</td>\n      <td>Казань</td>\n      <td>[55.796127,49.106414]</td>\n      <td>0</td>\n      <td>0</td>\n      <td>2</td>\n      <td>0</td>\n      <td>2021-12-26T21:03:37</td>\n    </tr>\n    <tr>\n      <th>3</th>\n      <td>user_14237</td>\n      <td>1</td>\n      <td>2021-12-26T21:04:02</td>\n      <td>product</td>\n      <td>0.000000</td>\n      <td>Красота и здоровье</td>\n      <td>28</td>\n      <td>Ж</td>\n      <td>Казань</td>\n      <td>[55.796127,49.106414]</td>\n      <td>0</td>\n      <td>0</td>\n      <td>2</td>\n      <td>0</td>\n      <td>2021-12-26T21:03:37</td>\n    </tr>\n    <tr>\n      <th>4</th>\n      <td>user_10415</td>\n      <td>1</td>\n      <td>2021-12-26T21:07:35</td>\n      <td>search</td>\n      <td>0.000000</td>\n      <td>Одежда и обувь</td>\n      <td>32</td>\n      <td>М</td>\n      <td>Самара</td>\n      <td>[53.195878,50.100202]</td>\n      <td>1</td>\n      <td>0</td>\n      <td>3</td>\n      <td>0</td>\n      <td>2021-12-26T21:07:35</td>\n    </tr>\n    <tr>\n      <th>...</th>\n      <td>...</td>\n      <td>...</td>\n      <td>...</td>\n      <td>...</td>\n      <td>...</td>\n      <td>...</td>\n      <td>...</td>\n      <td>...</td>\n      <td>...</td>\n      <td>...</td>\n      <td>...</td>\n      <td>...</td>\n      <td>...</td>\n      <td>...</td>\n      <td>...</td>\n    </tr>\n    <tr>\n      <th>14553412</th>\n      <td>user_11575</td>\n      <td>567</td>\n      <td>2025-01-03T21:03:12</td>\n      <td>category</td>\n      <td>0.000000</td>\n      <td>Товары для детей</td>\n      <td>39</td>\n      <td>М</td>\n      <td>Казань</td>\n      <td>[55.796127,49.106414]</td>\n      <td>0</td>\n      <td>0</td>\n      <td>5000</td>\n      <td>4999</td>\n      <td>2021-12-28T07:28:19</td>\n    </tr>\n    <tr>\n      <th>14553413</th>\n      <td>user_11575</td>\n      <td>567</td>\n      <td>2025-01-03T21:03:33</td>\n      <td>product</td>\n      <td>0.000000</td>\n      <td>Товары для детей</td>\n      <td>39</td>\n      <td>М</td>\n      <td>Казань</td>\n      <td>[55.796127,49.106414]</td>\n      <td>0</td>\n      <td>0</td>\n      <td>5000</td>\n      <td>4999</td>\n      <td>2021-12-28T07:28:19</td>\n    </tr>\n    <tr>\n      <th>14553414</th>\n      <td>user_11575</td>\n      <td>567</td>\n      <td>2025-01-03T21:03:54</td>\n      <td>category</td>\n      <td>0.000000</td>\n      <td>Электроника и бытовая техника</td>\n      <td>39</td>\n      <td>М</td>\n      <td>Казань</td>\n      <td>[55.796127,49.106414]</td>\n      <td>0</td>\n      <td>0</td>\n      <td>5000</td>\n      <td>4999</td>\n      <td>2021-12-28T07:28:19</td>\n    </tr>\n    <tr>\n      <th>14553415</th>\n      <td>user_11575</td>\n      <td>567</td>\n      <td>2025-01-03T21:04:21</td>\n      <td>cart</td>\n      <td>967.042253</td>\n      <td>Продовольственные товары</td>\n      <td>39</td>\n      <td>М</td>\n      <td>Казань</td>\n      <td>[55.796127,49.106414]</td>\n      <td>0</td>\n      <td>0</td>\n      <td>5000</td>\n      <td>4999</td>\n      <td>2021-12-28T07:28:19</td>\n    </tr>\n    <tr>\n      <th>14553416</th>\n      <td>user_11575</td>\n      <td>567</td>\n      <td>2025-01-03T21:04:55</td>\n      <td>mainpage</td>\n      <td>0.000000</td>\n      <td>None</td>\n      <td>39</td>\n      <td>М</td>\n      <td>Казань</td>\n      <td>[55.796127,49.106414]</td>\n      <td>0</td>\n      <td>1</td>\n      <td>5000</td>\n      <td>5000</td>\n      <td>2021-12-28T07:28:19</td>\n    </tr>\n  </tbody>\n</table>\n<p>14553417 rows × 15 columns</p>\n</div>"
     },
     "execution_count": 6,
     "metadata": {},
     "output_type": "execute_result"
    }
   ],
   "source": [
    "first_action = df.groupby('userid')['timestamp'].min().reset_index().rename(columns={'timestamp' : 'first_action'})\n",
    "df = df.merge(first_action, how='left', on='userid')\n",
    "df"
   ],
   "metadata": {
    "collapsed": false
   }
  },
  {
   "cell_type": "code",
   "execution_count": 7,
   "outputs": [],
   "source": [
    "df.to_csv('log-info-ext.csv', index=False)"
   ],
   "metadata": {
    "collapsed": false
   }
  }
 ],
 "metadata": {
  "kernelspec": {
   "display_name": "Python 3",
   "language": "python",
   "name": "python3"
  },
  "language_info": {
   "codemirror_mode": {
    "name": "ipython",
    "version": 2
   },
   "file_extension": ".py",
   "mimetype": "text/x-python",
   "name": "python",
   "nbconvert_exporter": "python",
   "pygments_lexer": "ipython2",
   "version": "2.7.6"
  }
 },
 "nbformat": 4,
 "nbformat_minor": 0
}
